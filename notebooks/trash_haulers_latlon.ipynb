{
 "cells": [
  {
   "cell_type": "code",
   "execution_count": null,
   "id": "a6b9cddc",
   "metadata": {},
   "outputs": [],
   "source": [
    "import pandas as pd\n",
    "import matplotlib.pyplot as plt"
   ]
  },
  {
   "cell_type": "code",
   "execution_count": null,
   "id": "a35d61e3",
   "metadata": {},
   "outputs": [],
   "source": [
    "from IPython.core.display import display, HTML\n",
    "display(HTML(\"<style>.container { width:100% !important; }</style>\"))"
   ]
  },
  {
   "cell_type": "code",
   "execution_count": null,
   "id": "fd15e730",
   "metadata": {},
   "outputs": [],
   "source": [
    "trash_df = pd.read_csv(\"C:/Users/dmora/Documents/NSS/python/projects/trash-haulers-badgers/data/trash_hauler_report_ll.csv\")\n",
    "trash_df"
   ]
  },
  {
   "cell_type": "code",
   "execution_count": null,
   "id": "caec948c",
   "metadata": {},
   "outputs": [],
   "source": [
    "trash_df = trash_df.rename(columns={'Request ': 'Request'})"
   ]
  },
  {
   "cell_type": "code",
   "execution_count": null,
   "id": "691b63b5",
   "metadata": {},
   "outputs": [],
   "source": [
    "trash_df.sort_values('Request Number', ascending=True)"
   ]
  },
  {
   "cell_type": "code",
   "execution_count": null,
   "id": "a5ef1372",
   "metadata": {},
   "outputs": [],
   "source": [
    "trash_df['Trash Hauler'] = trash_df['Trash Hauler'].str.upper()"
   ]
  },
  {
   "cell_type": "code",
   "execution_count": null,
   "id": "ec035157",
   "metadata": {},
   "outputs": [],
   "source": [
    "trash_df = trash_df.drop(columns = ['State Plan X', 'State Plan Y'])"
   ]
  },
  {
   "cell_type": "code",
   "execution_count": null,
   "id": "3f53dd5f",
   "metadata": {},
   "outputs": [],
   "source": [
    "trash_df = trash_df.rename(columns={'Request Number': 'Request_Number'})"
   ]
  },
  {
   "cell_type": "code",
   "execution_count": null,
   "id": "982e15d2",
   "metadata": {},
   "outputs": [],
   "source": [
    "trash_df = trash_df.rename(columns={'Incident Address': 'Incident_Address'})"
   ]
  },
  {
   "cell_type": "code",
   "execution_count": null,
   "id": "ff08be76",
   "metadata": {},
   "outputs": [],
   "source": [
    "trash_df = trash_df.rename(columns={'Zip Code': 'Zip_Code'})"
   ]
  },
  {
   "cell_type": "code",
   "execution_count": null,
   "id": "8a465870",
   "metadata": {},
   "outputs": [],
   "source": [
    "trash_df = trash_df.rename(columns={'Trash Hauler': 'Trash_Hauler'})"
   ]
  },
  {
   "cell_type": "code",
   "execution_count": null,
   "id": "6c848c2f",
   "metadata": {},
   "outputs": [],
   "source": [
    "trash_df = trash_df.rename(columns={'Trash Route': 'Trash_Route'})"
   ]
  },
  {
   "cell_type": "code",
   "execution_count": null,
   "id": "6f13aa93",
   "metadata": {},
   "outputs": [],
   "source": [
    "trash_df = trash_df.rename(columns={'Council District': 'Council_District'})"
   ]
  },
  {
   "cell_type": "code",
   "execution_count": null,
   "id": "80e3fa43",
   "metadata": {},
   "outputs": [],
   "source": [
    "trash_df = trash_df.fillna(0)\n",
    "trash_df['Council_District'] = trash_df.Council_District.astype(int)"
   ]
  },
  {
   "cell_type": "code",
   "execution_count": null,
   "id": "03514ea9",
   "metadata": {},
   "outputs": [],
   "source": [
    "trash_df['Zip_Code'] = trash_df.Zip_Code.astype(int)"
   ]
  },
  {
   "cell_type": "code",
   "execution_count": null,
   "id": "2ee7374b",
   "metadata": {},
   "outputs": [],
   "source": [
    "trash_df['Description'] = trash_df['Description'].str.lower()"
   ]
  },
  {
   "cell_type": "code",
   "execution_count": null,
   "id": "e124b8d6",
   "metadata": {},
   "outputs": [],
   "source": [
    "trash_df.loc[trash_df['Description'].isin(['miss', 'missed', 'not picked up', 'no pickup'])]"
   ]
  },
  {
   "cell_type": "code",
   "execution_count": null,
   "id": "2f7a0856",
   "metadata": {},
   "outputs": [],
   "source": [
    "trash_dff = trash_df[trash_df['Description'].str.contains('miss|missed|no pickup|not picked up|no trash pickup|not been picked up|skipped|never gets picked up|not being picked up|not collected|failure to pick|waiting for pick|did not get picked|skip|has not been|did not pick|not pick up|not pickup|did not empty|pass|no pick|no trash pick|been picked up|not getting picked|not had trash pick|didnt get picked|cart still out|cart been out|failed to pick up|never came|still on curb|still full|never picked up|cart has been out|not emptied|carts are still out|arts still out|still out', na = False, case = False)]\n",
    "trash_dff"
   ]
  },
  {
   "cell_type": "code",
   "execution_count": null,
   "id": "2b572717",
   "metadata": {},
   "outputs": [],
   "source": [
    "red_river = trash_dff[trash_dff['Trash_Hauler'] == 'RED RIVER']\n",
    "waste_indus = trash_dff[trash_dff['Trash_Hauler'] == 'WASTE IND']\n",
    "metro = trash_dff[trash_dff['Trash_Hauler'] == 'METRO']\n",
    "hauler_unk = trash_dff[trash_dff['Trash_Hauler'] == 0]"
   ]
  },
  {
   "cell_type": "code",
   "execution_count": null,
   "id": "facfd95c",
   "metadata": {},
   "outputs": [],
   "source": [
    "hauler_unk.reset_index(drop = True)"
   ]
  },
  {
   "cell_type": "code",
   "execution_count": null,
   "id": "e4b4f243",
   "metadata": {},
   "outputs": [],
   "source": [
    "hauler_unk['Incident_Address'].str.lower()"
   ]
  },
  {
   "cell_type": "code",
   "execution_count": null,
   "id": "15041a5f",
   "metadata": {},
   "outputs": [],
   "source": [
    "hauler_unk.sort_values(['Date Opened', 'Incident_Address'])"
   ]
  },
  {
   "cell_type": "code",
   "execution_count": null,
   "id": "7b572ae8",
   "metadata": {},
   "outputs": [],
   "source": [
    "hauler_unk = hauler_unk.rename(columns={'Date Opened': 'Date_Opened'})"
   ]
  },
  {
   "cell_type": "code",
   "execution_count": null,
   "id": "f021b564",
   "metadata": {},
   "outputs": [],
   "source": [
    "hauler_unk.sort_values(['Date_Opened', 'Incident_Address'])"
   ]
  },
  {
   "cell_type": "code",
   "execution_count": null,
   "id": "e77f626f",
   "metadata": {},
   "outputs": [],
   "source": [
    "hauler_unk['Date_Opened'] = pd.to_datetime(hauler_unk['Date_Opened'])"
   ]
  },
  {
   "cell_type": "code",
   "execution_count": null,
   "id": "5f221561",
   "metadata": {},
   "outputs": [],
   "source": [
    "hauler_unk.sort_values(['Date_Opened', 'Incident_Address'])"
   ]
  },
  {
   "cell_type": "code",
   "execution_count": null,
   "id": "bab95fe0",
   "metadata": {},
   "outputs": [],
   "source": [
    "addy_count_hauler_unk = hauler_unk.Incident_Address.value_counts()>=3"
   ]
  },
  {
   "cell_type": "code",
   "execution_count": null,
   "id": "837ee7e9",
   "metadata": {},
   "outputs": [],
   "source": [
    "addy_count_hauler_unk.to_frame()"
   ]
  },
  {
   "cell_type": "code",
   "execution_count": null,
   "id": "1e33e234",
   "metadata": {},
   "outputs": [],
   "source": [
    "hauler_unk = pd.merge(hauler_unk, addy_count_hauler_unk, left_on = 'Incident_Address', right_on = 'Incident_Address')"
   ]
  },
  {
   "cell_type": "code",
   "execution_count": null,
   "id": "d610d6ac",
   "metadata": {},
   "outputs": [],
   "source": [
    "hauler_unk_three = hauler_unk.loc[hauler_unk['count']== True]"
   ]
  },
  {
   "cell_type": "code",
   "execution_count": null,
   "id": "75c539f5",
   "metadata": {},
   "outputs": [],
   "source": [
    "hauler_unk_three = hauler_unk_three.reset_index(drop = True)"
   ]
  },
  {
   "cell_type": "code",
   "execution_count": null,
   "id": "a4ea1faf",
   "metadata": {},
   "outputs": [],
   "source": [
    "hauler_unk_three.Date_Opened = pd.to_datetime(hauler_unk_three.Date_Opened, format='%d/%m/%Y')\n",
    "g = pd.Grouper(key='Date_Opened', freq='6MS')\n",
    "hauler_unk_occ = hauler_unk_three.assign(occ=hauler_unk_three.groupby(['Incident_Address', g]).cumcount())"
   ]
  },
  {
   "cell_type": "code",
   "execution_count": null,
   "id": "ded35a0a",
   "metadata": {},
   "outputs": [],
   "source": [
    "for index, row in hauler_unk_occ.iterrows():\n",
    "    if row.occ == 0:\n",
    "        hauler_unk_occ.loc[index, 'fine'] = 0\n",
    "    elif row.occ == 1:\n",
    "        hauler_unk_occ.loc[index, 'fine'] = 0\n",
    "    elif row.occ == 2:\n",
    "        hauler_unk_occ.loc[index, 'fine'] = 1500\n",
    "    else:\n",
    "         hauler_unk_occ.loc[index, 'fine'] = 0"
   ]
  },
  {
   "cell_type": "code",
   "execution_count": null,
   "id": "33a596c3",
   "metadata": {},
   "outputs": [],
   "source": [
    "total_hauler_unk = hauler_unk_occ['fine'].sum()\n",
    "print(total_hauler_unk)"
   ]
  },
  {
   "cell_type": "code",
   "execution_count": null,
   "id": "9b4771bb",
   "metadata": {},
   "outputs": [],
   "source": []
  },
  {
   "cell_type": "code",
   "execution_count": null,
   "id": "f89b5637",
   "metadata": {},
   "outputs": [],
   "source": [
    "red_river.reset_index(drop = True)"
   ]
  },
  {
   "cell_type": "code",
   "execution_count": null,
   "id": "e0cdf97a",
   "metadata": {},
   "outputs": [],
   "source": [
    "red_river['Incident_Address'].str.lower()"
   ]
  },
  {
   "cell_type": "code",
   "execution_count": null,
   "id": "4f576415",
   "metadata": {},
   "outputs": [],
   "source": [
    "red_river.sort_values(['Date Opened', 'Incident_Address'])"
   ]
  },
  {
   "cell_type": "code",
   "execution_count": null,
   "id": "638c3753",
   "metadata": {},
   "outputs": [],
   "source": [
    "red_river = red_river.rename(columns={'Date Opened': 'Date_Opened'})"
   ]
  },
  {
   "cell_type": "code",
   "execution_count": null,
   "id": "f12897de",
   "metadata": {},
   "outputs": [],
   "source": [
    "red_river.sort_values(['Date_Opened', 'Incident_Address'])"
   ]
  },
  {
   "cell_type": "code",
   "execution_count": null,
   "id": "0f704c98",
   "metadata": {},
   "outputs": [],
   "source": [
    "red_river['Date_Opened'] = pd.to_datetime(red_river['Date_Opened'])"
   ]
  },
  {
   "cell_type": "code",
   "execution_count": null,
   "id": "e4ccfb05",
   "metadata": {},
   "outputs": [],
   "source": [
    "red_river.sort_values(['Date_Opened', 'Incident_Address'])"
   ]
  },
  {
   "cell_type": "code",
   "execution_count": null,
   "id": "f6891555",
   "metadata": {},
   "outputs": [],
   "source": [
    "addy_count = red_river.Incident_Address.value_counts()>=3"
   ]
  },
  {
   "cell_type": "code",
   "execution_count": null,
   "id": "104fc4e0",
   "metadata": {},
   "outputs": [],
   "source": [
    "addy_count.to_frame()"
   ]
  },
  {
   "cell_type": "code",
   "execution_count": null,
   "id": "d64e9e37",
   "metadata": {},
   "outputs": [],
   "source": [
    "red_river = pd.merge(red_river, addy_count, left_on = 'Incident_Address', right_on = 'Incident_Address')"
   ]
  },
  {
   "cell_type": "code",
   "execution_count": null,
   "id": "5044eb96",
   "metadata": {},
   "outputs": [],
   "source": [
    "red_river_three = red_river.loc[red_river['count']== True]"
   ]
  },
  {
   "cell_type": "code",
   "execution_count": null,
   "id": "67c7b36d",
   "metadata": {},
   "outputs": [],
   "source": [
    "red_river_three = red_river_three.reset_index(drop = True)"
   ]
  },
  {
   "cell_type": "code",
   "execution_count": null,
   "id": "e2ca5cef",
   "metadata": {},
   "outputs": [],
   "source": [
    "red_river_three.head(10)"
   ]
  },
  {
   "cell_type": "code",
   "execution_count": null,
   "id": "86c8d3cd",
   "metadata": {},
   "outputs": [],
   "source": [
    "red_river_three.Date_Opened = pd.to_datetime(red_river_three.Date_Opened, format='%d/%m/%Y')\n",
    "g = pd.Grouper(key='Date_Opened', freq='6MS')\n",
    "red_river_occ = red_river_three.assign(occ=red_river_three.groupby(['Incident_Address', g]).cumcount())"
   ]
  },
  {
   "cell_type": "code",
   "execution_count": null,
   "id": "fdb1f1de",
   "metadata": {},
   "outputs": [],
   "source": [
    "red_river_occ.head(10)"
   ]
  },
  {
   "cell_type": "code",
   "execution_count": null,
   "id": "c6edd917",
   "metadata": {},
   "outputs": [],
   "source": [
    "for index, row in red_river_occ.iterrows():\n",
    "    if row.occ == 0:\n",
    "        red_river_occ.loc[index, 'fine'] = 0\n",
    "    elif row.occ == 1:\n",
    "        red_river_occ.loc[index, 'fine'] = 0\n",
    "    elif row.occ == 2:\n",
    "        red_river_occ.loc[index, 'fine'] = 1500\n",
    "    else:\n",
    "         red_river_occ.loc[index, 'fine'] = 0"
   ]
  },
  {
   "cell_type": "code",
   "execution_count": null,
   "id": "d81bd8d2",
   "metadata": {},
   "outputs": [],
   "source": [
    "total_red_river = red_river_occ['fine'].sum()\n",
    "print(total_red_river)"
   ]
  },
  {
   "cell_type": "code",
   "execution_count": null,
   "id": "16b92f4a",
   "metadata": {},
   "outputs": [],
   "source": [
    "waste_indus"
   ]
  },
  {
   "cell_type": "code",
   "execution_count": null,
   "id": "4a011cc9",
   "metadata": {},
   "outputs": [],
   "source": [
    "waste_indus = waste_indus.reset_index(drop = True)"
   ]
  },
  {
   "cell_type": "code",
   "execution_count": null,
   "id": "63a6a084",
   "metadata": {},
   "outputs": [],
   "source": [
    "waste_indus['Incident_Address']  = waste_indus['Incident_Address'].str.lower()\n",
    "waste_indus"
   ]
  },
  {
   "cell_type": "code",
   "execution_count": null,
   "id": "08e3436d",
   "metadata": {},
   "outputs": [],
   "source": [
    "waste_indus['Incident_Address'] = waste_indus['Incident_Address'].str.split(',', expand = True)[0]\n",
    "waste_indus"
   ]
  },
  {
   "cell_type": "code",
   "execution_count": null,
   "id": "18d77d4b",
   "metadata": {},
   "outputs": [],
   "source": [
    "waste_indus.drop(['Council_District'], axis = 1)"
   ]
  },
  {
   "cell_type": "code",
   "execution_count": null,
   "id": "bca7ad19",
   "metadata": {},
   "outputs": [],
   "source": [
    "waste_indus = waste_indus.rename(columns={'Date Opened': 'Date_Opened'})\n",
    "waste_indus"
   ]
  },
  {
   "cell_type": "code",
   "execution_count": null,
   "id": "4faa0d87",
   "metadata": {},
   "outputs": [],
   "source": [
    "waste_indus.sort_values(by=['Date_Opened', 'Incident_Address'])"
   ]
  },
  {
   "cell_type": "code",
   "execution_count": null,
   "id": "a067947d",
   "metadata": {},
   "outputs": [],
   "source": [
    "addy_count_wi = waste_indus.Incident_Address.value_counts()>=3"
   ]
  },
  {
   "cell_type": "code",
   "execution_count": null,
   "id": "2aefe6b7",
   "metadata": {},
   "outputs": [],
   "source": [
    "addy_count_wi.to_frame()"
   ]
  },
  {
   "cell_type": "code",
   "execution_count": null,
   "id": "21e4e6a5",
   "metadata": {},
   "outputs": [],
   "source": [
    "waste_indus = pd.merge(waste_indus, addy_count_wi, left_on = 'Incident_Address', right_on = 'Incident_Address')\n",
    "waste_indus.head(20)"
   ]
  },
  {
   "cell_type": "code",
   "execution_count": null,
   "id": "9176af38",
   "metadata": {},
   "outputs": [],
   "source": [
    "waste_indus_three = waste_indus.loc[waste_indus['count'] == True]"
   ]
  },
  {
   "cell_type": "code",
   "execution_count": null,
   "id": "9c3dfc09",
   "metadata": {},
   "outputs": [],
   "source": [
    "waste_indus_three = waste_indus_three.reset_index(drop = True)\n",
    "waste_indus_three"
   ]
  },
  {
   "cell_type": "code",
   "execution_count": null,
   "id": "b483b330",
   "metadata": {},
   "outputs": [],
   "source": [
    "waste_indus_three['Date_Opened'] = pd.to_datetime(waste_indus_three['Date_Opened'])"
   ]
  },
  {
   "cell_type": "code",
   "execution_count": null,
   "id": "e49b88d0",
   "metadata": {},
   "outputs": [],
   "source": [
    "waste_indus_three.Date_Opened = pd.to_datetime(waste_indus_three.Date_Opened, format='%d/%m/%Y')\n",
    "g = pd.Grouper(key='Date_Opened', freq='6MS')\n",
    "waste_indus_occ = waste_indus_three.assign(occ=waste_indus_three.groupby(['Incident_Address', g]).cumcount())"
   ]
  },
  {
   "cell_type": "code",
   "execution_count": null,
   "id": "a6607368",
   "metadata": {},
   "outputs": [],
   "source": [
    "waste_indus_occ = waste_indus_occ.drop(['Council_District'], axis = 1)"
   ]
  },
  {
   "cell_type": "code",
   "execution_count": null,
   "id": "7a808b74",
   "metadata": {},
   "outputs": [],
   "source": [
    "waste_indus_occ"
   ]
  },
  {
   "cell_type": "code",
   "execution_count": null,
   "id": "36afc831",
   "metadata": {},
   "outputs": [],
   "source": [
    "for index, row in waste_indus_occ.iterrows():\n",
    "    if row.occ == 0:\n",
    "        waste_indus_occ.loc[index, 'fine'] = 0\n",
    "    elif row.occ == 1:\n",
    "        waste_indus_occ.loc[index, 'fine'] = 0\n",
    "    elif row.occ == 2:\n",
    "        waste_indus_occ.loc[index, 'fine'] = 1500\n",
    "    else:\n",
    "         waste_indus_occ.loc[index, 'fine'] = 0"
   ]
  },
  {
   "cell_type": "code",
   "execution_count": null,
   "id": "cec6aec0",
   "metadata": {},
   "outputs": [],
   "source": [
    "waste_indus_occ"
   ]
  },
  {
   "cell_type": "code",
   "execution_count": null,
   "id": "5855a4ac",
   "metadata": {},
   "outputs": [],
   "source": [
    "total_waste_indus = waste_indus_occ['fine'].sum()\n",
    "print(total_waste_indus)"
   ]
  },
  {
   "cell_type": "code",
   "execution_count": null,
   "id": "0e71d930",
   "metadata": {},
   "outputs": [],
   "source": [
    "metro = metro.reset_index(drop = True)\n",
    "metro"
   ]
  },
  {
   "cell_type": "code",
   "execution_count": null,
   "id": "bd6f38dc",
   "metadata": {},
   "outputs": [],
   "source": [
    "metro = metro.rename(columns={'Date Opened': 'Date_Opened'})\n",
    "metro"
   ]
  },
  {
   "cell_type": "code",
   "execution_count": null,
   "id": "9a206b76",
   "metadata": {},
   "outputs": [],
   "source": [
    "metro.sort_values(by=['Date_Opened', 'Incident_Address'])"
   ]
  },
  {
   "cell_type": "code",
   "execution_count": null,
   "id": "1739b44f",
   "metadata": {},
   "outputs": [],
   "source": [
    "addy_count_met = metro.Incident_Address.value_counts()>=3"
   ]
  },
  {
   "cell_type": "code",
   "execution_count": null,
   "id": "0be32e3c",
   "metadata": {},
   "outputs": [],
   "source": [
    "addy_count_met.to_frame()"
   ]
  },
  {
   "cell_type": "code",
   "execution_count": null,
   "id": "4ed4883d",
   "metadata": {},
   "outputs": [],
   "source": [
    "metro = pd.merge(metro, addy_count_met, left_on = 'Incident_Address', right_on = 'Incident_Address')\n",
    "metro.head(20)"
   ]
  },
  {
   "cell_type": "code",
   "execution_count": null,
   "id": "85a95a5e",
   "metadata": {},
   "outputs": [],
   "source": [
    "metro_three = metro.loc[metro['count'] == True]"
   ]
  },
  {
   "cell_type": "code",
   "execution_count": null,
   "id": "be099c93",
   "metadata": {},
   "outputs": [],
   "source": [
    "metro_three = metro_three.reset_index(drop = True)\n",
    "metro_three"
   ]
  },
  {
   "cell_type": "code",
   "execution_count": null,
   "id": "d63774eb",
   "metadata": {},
   "outputs": [],
   "source": [
    "metro_three['Date_Opened'] = pd.to_datetime(metro_three['Date_Opened'])"
   ]
  },
  {
   "cell_type": "code",
   "execution_count": null,
   "id": "21e2cdcd",
   "metadata": {
    "scrolled": true
   },
   "outputs": [],
   "source": [
    "metro_three.Date_Opened = pd.to_datetime(metro_three.Date_Opened, format='%d/%m/%Y')\n",
    "g = pd.Grouper(key='Date_Opened', freq='6MS')\n",
    "metro_occ = metro_three.assign(occ=metro_three.groupby(['Incident_Address', g]).cumcount())"
   ]
  },
  {
   "cell_type": "code",
   "execution_count": null,
   "id": "31950491",
   "metadata": {},
   "outputs": [],
   "source": [
    "metro_occ = metro_occ.drop(['Council_District'], axis = 1)"
   ]
  },
  {
   "cell_type": "code",
   "execution_count": null,
   "id": "d496f937",
   "metadata": {},
   "outputs": [],
   "source": [
    "for index, row in metro_occ.iterrows():\n",
    "    if row.occ == 0:\n",
    "        metro_occ.loc[index, 'fine'] = 0\n",
    "    elif row.occ == 1:\n",
    "        metro_occ.loc[index, 'fine'] = 0\n",
    "    elif row.occ == 2:\n",
    "        metro_occ.loc[index, 'fine'] = 1500\n",
    "    else:\n",
    "        metro_occ.loc[index, 'fine'] = 0"
   ]
  },
  {
   "cell_type": "code",
   "execution_count": null,
   "id": "71d2663f",
   "metadata": {},
   "outputs": [],
   "source": [
    "total_metro = metro_occ['fine'].sum()\n",
    "print(total_metro)"
   ]
  },
  {
   "cell_type": "code",
   "execution_count": null,
   "id": "7116de70",
   "metadata": {},
   "outputs": [],
   "source": [
    "print(total_red_river)"
   ]
  },
  {
   "cell_type": "code",
   "execution_count": null,
   "id": "643da5dc",
   "metadata": {},
   "outputs": [],
   "source": [
    "print(total_waste_indus)"
   ]
  },
  {
   "cell_type": "markdown",
   "id": "9ae14dc7",
   "metadata": {},
   "source": [
    "Red River: 14,395 total complaints; 11,568 missed pickups; $639,000 fines owed; 73 percent of total missed complaints; FIND fines owed / total missed pickups = cost per miss; FIND missed complaints / total RR complaints = missed complaint percent overall\n",
    "\n",
    "Waste Industries: 1,350 total complaints; 994 missed pickups; $52,500 fines owed; 6 percent of total missed complaints; FIND fines owed / total missed pickups = cost per miss; FIND missed complaints / total RR complaints = missed complaint percent overall\n",
    "\n",
    "Metro: 3,580 total complaints; 2,669 missed pickups; $124,500 fines owed; 17 percent of total missed complaints; FIND fines owed / total missed pickups = cost per miss; FIND missed complaints / total RR complaints = missed complaint percent overall\n",
    "\n",
    "Unkown: 901 total complaints, 4 percent of total missed complaints; FIND fines owed / total missed pickups = cost per miss; FIND missed complaints / total RR complaints = missed complaint percent overall"
   ]
  },
  {
   "cell_type": "code",
   "execution_count": null,
   "id": "1ce6fe65",
   "metadata": {},
   "outputs": [],
   "source": [
    "row_count_rr = len(red_river)\n",
    "row_count_rr"
   ]
  },
  {
   "cell_type": "code",
   "execution_count": null,
   "id": "3dc85dd9",
   "metadata": {},
   "outputs": [],
   "source": [
    "row_count_wi = len(waste_indus)\n",
    "row_count_wi"
   ]
  },
  {
   "cell_type": "code",
   "execution_count": null,
   "id": "b422c989",
   "metadata": {},
   "outputs": [],
   "source": [
    "row_count_met = len(metro)\n",
    "row_count_met"
   ]
  },
  {
   "cell_type": "code",
   "execution_count": null,
   "id": "59aff52d",
   "metadata": {},
   "outputs": [],
   "source": [
    "row_count_unk = len(hauler_unk)\n",
    "row_count_unk"
   ]
  },
  {
   "cell_type": "code",
   "execution_count": null,
   "id": "afe6d7b8",
   "metadata": {},
   "outputs": [],
   "source": [
    "row_count_total = len(trash_dff)\n",
    "row_count_total"
   ]
  },
  {
   "cell_type": "code",
   "execution_count": null,
   "id": "221beb2d",
   "metadata": {},
   "outputs": [],
   "source": [
    "total_missed = row_count_rr + row_count_wi + row_count_met + row_count_unk\n",
    "total_missed"
   ]
  },
  {
   "cell_type": "code",
   "execution_count": null,
   "id": "88a29b40",
   "metadata": {},
   "outputs": [],
   "source": [
    "rr_miss_perc = row_count_rr/total_missed\n",
    "rr_miss_perc"
   ]
  },
  {
   "cell_type": "code",
   "execution_count": null,
   "id": "b3ba9f1f",
   "metadata": {},
   "outputs": [],
   "source": [
    "met_miss_perc = row_count_met/total_missed\n",
    "met_miss_perc"
   ]
  },
  {
   "cell_type": "code",
   "execution_count": null,
   "id": "d833ca09",
   "metadata": {},
   "outputs": [],
   "source": [
    "wi_miss_perc = row_count_wi/total_missed\n",
    "wi_miss_perc"
   ]
  },
  {
   "cell_type": "code",
   "execution_count": null,
   "id": "98b75c6e",
   "metadata": {},
   "outputs": [],
   "source": [
    "unk_miss_perc = row_count_unk/total_missed\n",
    "unk_miss_perc"
   ]
  },
  {
   "cell_type": "code",
   "execution_count": null,
   "id": "225e86b9",
   "metadata": {},
   "outputs": [],
   "source": [
    "rr_miss_percentage = f\"{rr_miss_perc:.00%}\"\n",
    "rr_miss_percentage"
   ]
  },
  {
   "cell_type": "code",
   "execution_count": null,
   "id": "f614eb5f",
   "metadata": {},
   "outputs": [],
   "source": [
    "wi_miss_percentage = f\"{wi_miss_perc:.00%}\"\n",
    "wi_miss_percentage"
   ]
  },
  {
   "cell_type": "code",
   "execution_count": null,
   "id": "315b84fe",
   "metadata": {},
   "outputs": [],
   "source": [
    "met_miss_percentage = f\"{met_miss_perc:.00%}\"\n",
    "met_miss_percentage"
   ]
  },
  {
   "cell_type": "code",
   "execution_count": null,
   "id": "bfdd2756",
   "metadata": {},
   "outputs": [],
   "source": [
    "unk_miss_percentage = f\"{unk_miss_perc:.00%}\"\n",
    "unk_miss_percentage"
   ]
  },
  {
   "cell_type": "code",
   "execution_count": null,
   "id": "5deee609",
   "metadata": {},
   "outputs": [],
   "source": [
    "red_river_three.Date_Opened = pd.to_datetime(red_river_three.Date_Opened, format='%d/%m/%Y')\n",
    "g = pd.Grouper(key='Date_Opened', freq='6MS')\n",
    "red_river_roll = red_river_three.assign(occ=red_river_three.groupby(['Incident_Address', g]).cumcount())"
   ]
  },
  {
   "cell_type": "code",
   "execution_count": null,
   "id": "8fe0856a",
   "metadata": {},
   "outputs": [],
   "source": [
    "red_river_roll"
   ]
  },
  {
   "cell_type": "code",
   "execution_count": null,
   "id": "baae1bff",
   "metadata": {},
   "outputs": [],
   "source": [
    "red_river_roll_occ = red_river_roll.occ.rolling(3, win_type ='triang').sum()\n",
    "red_river_roll[\"roll\"] = red_river_roll_occ"
   ]
  },
  {
   "cell_type": "code",
   "execution_count": null,
   "id": "f398a08c",
   "metadata": {},
   "outputs": [],
   "source": [
    "red_river_roll"
   ]
  },
  {
   "cell_type": "code",
   "execution_count": null,
   "id": "de3d1b81",
   "metadata": {},
   "outputs": [],
   "source": [
    "red_river_roll['Date_Lag'] = red_river_roll['Date_Opened'].shift(1)"
   ]
  },
  {
   "cell_type": "code",
   "execution_count": null,
   "id": "35a04dea",
   "metadata": {},
   "outputs": [],
   "source": [
    "red_river_roll['Date_Diff'] = red_river_roll['Date_Opened'] - red_river_roll['Date_Lag']\n",
    "red_river_roll"
   ]
  },
  {
   "cell_type": "code",
   "execution_count": null,
   "id": "9d4d2396",
   "metadata": {},
   "outputs": [],
   "source": [
    "red_river_roll.head(8)"
   ]
  },
  {
   "cell_type": "code",
   "execution_count": null,
   "id": "86978bf1",
   "metadata": {},
   "outputs": [],
   "source": [
    "red_river_roll['days'] = red_river_roll['Date_Diff'].dt.days\n",
    "red_river_roll.head(8)"
   ]
  },
  {
   "cell_type": "code",
   "execution_count": null,
   "id": "4968886f",
   "metadata": {},
   "outputs": [],
   "source": [
    "red_river_roll = red_river_roll.drop(columns = ['Council_District', 'roll', 'Date_Diff'])\n",
    "red_river_roll"
   ]
  },
  {
   "cell_type": "code",
   "execution_count": null,
   "id": "8cc43219",
   "metadata": {},
   "outputs": [],
   "source": [
    "red_river_roll = red_river_roll.fillna(0)\n",
    "red_river_roll"
   ]
  },
  {
   "cell_type": "code",
   "execution_count": null,
   "id": "5a657a18",
   "metadata": {},
   "outputs": [],
   "source": [
    "red_river_roll['days'] = red_river_roll.days.astype(int)\n",
    "red_river_roll.head(10)"
   ]
  },
  {
   "cell_type": "code",
   "execution_count": null,
   "id": "a49d88f8",
   "metadata": {},
   "outputs": [],
   "source": [
    "red_river_roll['rolling_days_sum'] = red_river_roll['days'].rolling('180D').sum()\n",
    "red_river_roll.head(10)"
   ]
  },
  {
   "cell_type": "code",
   "execution_count": null,
   "id": "d3e4aa7a",
   "metadata": {},
   "outputs": [],
   "source": [
    "red_river_roll.head(10)"
   ]
  },
  {
   "cell_type": "code",
   "execution_count": null,
   "id": "7c20b988",
   "metadata": {},
   "outputs": [],
   "source": [
    "red_river_roll.dtypes"
   ]
  },
  {
   "cell_type": "code",
   "execution_count": null,
   "id": "fc6f4715",
   "metadata": {},
   "outputs": [],
   "source": [
    "red_river_roll.loc[(red_river_roll['rolling_days_sum']<=180.0) & (red_river_roll['rolling_days_sum'] >0)]"
   ]
  },
  {
   "cell_type": "code",
   "execution_count": null,
   "id": "0d9bb6df",
   "metadata": {},
   "outputs": [],
   "source": [
    "red_river_roll['Date_Lag'] = pd.to_datetime(red_river_roll['Date_Lag'])\n",
    "red_river_roll.head(10)"
   ]
  },
  {
   "cell_type": "code",
   "execution_count": null,
   "id": "12304ffe",
   "metadata": {},
   "outputs": [],
   "source": []
  },
  {
   "cell_type": "code",
   "execution_count": null,
   "id": "6ba30698",
   "metadata": {},
   "outputs": [],
   "source": [
    "for index, row in red_river_roll.iterrows():\n",
    "    if row.days == 0:\n",
    "        red_river_roll.loc[index, 'fine'] = 0\n",
    "    elif row.days == 1:\n",
    "        red_river_roll.loc[index, 'fine'] = 0\n",
    "    elif row.days == 2:\n",
    "        red_river_roll.loc[index, 'fine'] = 1500\n",
    "    else:\n",
    "        red_river_roll.loc[index, 'fine'] = 0"
   ]
  },
  {
   "cell_type": "code",
   "execution_count": null,
   "id": "5f8c1d92",
   "metadata": {},
   "outputs": [],
   "source": [
    "trash_dff"
   ]
  },
  {
   "cell_type": "code",
   "execution_count": null,
   "id": "85c16438",
   "metadata": {},
   "outputs": [],
   "source": [
    "trash_route_missed = trash_dff.groupby(['Trash_Route'])['Date Opened'].count()\n",
    "trash_route_missed"
   ]
  },
  {
   "cell_type": "code",
   "execution_count": null,
   "id": "0ad758fd",
   "metadata": {},
   "outputs": [],
   "source": [
    "trash_route_missed"
   ]
  },
  {
   "cell_type": "code",
   "execution_count": null,
   "id": "3cb17236",
   "metadata": {},
   "outputs": [],
   "source": [
    "trash_route_missed = trash_route_missed.rename(columns={'Date Opened': 'Total_Missed'})\n",
    "trash_route_missed"
   ]
  },
  {
   "cell_type": "code",
   "execution_count": null,
   "id": "111da6fc",
   "metadata": {},
   "outputs": [],
   "source": [
    "trash_route_missed.head(173)"
   ]
  },
  {
   "cell_type": "code",
   "execution_count": null,
   "id": "297e84dd",
   "metadata": {},
   "outputs": [],
   "source": [
    "trash_route_missed_re = trash_route_missed.reset_index()"
   ]
  },
  {
   "cell_type": "code",
   "execution_count": null,
   "id": "d40dec05",
   "metadata": {},
   "outputs": [],
   "source": [
    "trash_route_missed_re.head(173)"
   ]
  },
  {
   "cell_type": "code",
   "execution_count": null,
   "id": "09064162",
   "metadata": {},
   "outputs": [],
   "source": [
    "trash_route_missed_re.to_csv('trash_route_missed_re.csv', sep=',', index=False, encoding='utf-8')"
   ]
  },
  {
   "cell_type": "code",
   "execution_count": null,
   "id": "7b85e365",
   "metadata": {},
   "outputs": [],
   "source": [
    "trash_route_missed['Total_Missed'].sum()"
   ]
  },
  {
   "cell_type": "code",
   "execution_count": null,
   "id": "7492e5a2",
   "metadata": {},
   "outputs": [],
   "source": [
    "total_red_river"
   ]
  },
  {
   "cell_type": "code",
   "execution_count": null,
   "id": "8285e4da",
   "metadata": {},
   "outputs": [],
   "source": [
    "red_river"
   ]
  },
  {
   "cell_type": "code",
   "execution_count": null,
   "id": "8e5b4db0",
   "metadata": {},
   "outputs": [],
   "source": [
    "rr_cpm = total_red_river/11568\n",
    "rr_cpm"
   ]
  },
  {
   "cell_type": "code",
   "execution_count": null,
   "id": "3dc78c7c",
   "metadata": {},
   "outputs": [],
   "source": [
    "wi_cpm = total_waste_indus/994\n",
    "wi_cpm"
   ]
  },
  {
   "cell_type": "code",
   "execution_count": null,
   "id": "8e3697f1",
   "metadata": {},
   "outputs": [],
   "source": [
    "met_cpm = total_metro/2669\n",
    "met_cpm"
   ]
  },
  {
   "cell_type": "code",
   "execution_count": null,
   "id": "a7af0aec",
   "metadata": {},
   "outputs": [],
   "source": [
    "data = {'Hauler': ['red_river', 'waste_ind','metro'],\n",
    "        'Cost_Per_Miss': [55.24, 52.82, 46.64]}\n",
    "df = pd.DataFrame(data)\n",
    "print(df)"
   ]
  },
  {
   "cell_type": "code",
   "execution_count": null,
   "id": "00023e76",
   "metadata": {},
   "outputs": [],
   "source": [
    "import matplotlib.pyplot as plt\n",
    "import seaborn as sns\n",
    "import numpy as np"
   ]
  },
  {
   "cell_type": "code",
   "execution_count": null,
   "id": "f5e745f3",
   "metadata": {},
   "outputs": [],
   "source": [
    "plt.figure(figsize=(14, 10))\n",
    "\n",
    "sns.set(font_scale=2)\n",
    "\n",
    "ax = sns.barplot(\n",
    "    y=\"Cost_Per_Miss\", \n",
    "    x=\"Hauler\", \n",
    "    data=df, \n",
    "    estimator=sum, \n",
    "    ci=None, \n",
    "    color='#b3a269').set(title = 'Cost Per Missed Stop by Hauler')\n",
    "\n",
    "for i, v in enumaerate(y):\n",
    "    ax.text(i, v + 0.2,str(v), ha='center')"
   ]
  },
  {
   "cell_type": "code",
   "execution_count": null,
   "id": "7c0d1bea",
   "metadata": {},
   "outputs": [],
   "source": [
    "trash_miss_rr_180 = red_river_roll.set_index('Date Opened').groupby('Incident_Address')['Address'].rolling('180D').count().reset_index(name='Complaints')"
   ]
  }
 ],
 "metadata": {
  "kernelspec": {
   "display_name": "Python 3 (ipykernel)",
   "language": "python",
   "name": "python3"
  },
  "language_info": {
   "codemirror_mode": {
    "name": "ipython",
    "version": 3
   },
   "file_extension": ".py",
   "mimetype": "text/x-python",
   "name": "python",
   "nbconvert_exporter": "python",
   "pygments_lexer": "ipython3",
   "version": "3.11.5"
  }
 },
 "nbformat": 4,
 "nbformat_minor": 5
}
